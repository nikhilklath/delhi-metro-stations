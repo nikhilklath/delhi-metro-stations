{
 "cells": [
  {
   "cell_type": "markdown",
   "metadata": {},
   "source": [
    "### Import Packages"
   ]
  },
  {
   "cell_type": "code",
   "execution_count": 1,
   "metadata": {},
   "outputs": [],
   "source": [
    "import pandas as pd \n",
    "import os \n",
    "import numpy as np \n",
    "import re\n",
    "import string\n",
    "from urllib.request import urlopen\n",
    "from bs4 import BeautifulSoup\n",
    "import requests\n",
    "from selenium import webdriver\n",
    "import math\n",
    "from selenium.common.exceptions import NoSuchElementException\n",
    "import googlemaps"
   ]
  },
  {
   "cell_type": "markdown",
   "metadata": {},
   "source": [
    "### Load Webdriver"
   ]
  },
  {
   "cell_type": "code",
   "execution_count": 2,
   "metadata": {},
   "outputs": [],
   "source": [
    "EXE_PATH = r\"C:\\Users\\nikhi\\Downloads\\chromedriver_win32\\chromedriver.exe\"\n",
    "browser = webdriver.Chrome(executable_path=EXE_PATH)"
   ]
  },
  {
   "cell_type": "markdown",
   "metadata": {},
   "source": [
    "### Open Delhi Metro Website"
   ]
  },
  {
   "cell_type": "code",
   "execution_count": 53,
   "metadata": {},
   "outputs": [],
   "source": [
    "base = \"https://www.delhimetrorail.com/\"\n",
    "browser.get(base)\n",
    "browser.implicitly_wait(10)"
   ]
  },
  {
   "cell_type": "code",
   "execution_count": 54,
   "metadata": {},
   "outputs": [],
   "source": [
    "browser.find_element_by_id(\"FromStation\").click()"
   ]
  },
  {
   "cell_type": "code",
   "execution_count": 55,
   "metadata": {},
   "outputs": [],
   "source": [
    "html = browser.page_source\n",
    "soup = BeautifulSoup(html)"
   ]
  },
  {
   "cell_type": "markdown",
   "metadata": {},
   "source": [
    "### Find all the different lines (routes)"
   ]
  },
  {
   "cell_type": "code",
   "execution_count": 108,
   "metadata": {},
   "outputs": [],
   "source": [
    "line_results = browser.find_elements_by_class_name('popup-result-line')\n",
    "lines = soup.find_all('div', class_ = 'popup-result-line')"
   ]
  },
  {
   "cell_type": "markdown",
   "metadata": {},
   "source": [
    "### Scrape Data for All Stations on all the lines"
   ]
  },
  {
   "cell_type": "code",
   "execution_count": 115,
   "metadata": {},
   "outputs": [
    {
     "name": "stdout",
     "output_type": "stream",
     "text": [
      "Red Line 1\n",
      "Yellow Line 2\n",
      "Blue Line 3\n",
      "Blue Line 4\n",
      "Green Line 5\n",
      "Violet Line 6\n",
      "Pink Line 7\n",
      "Magenta Line 8\n",
      "Grey Line 9\n",
      "Orange Line 10\n",
      "RMGL 11\n"
     ]
    }
   ],
   "source": [
    "stations_prev = ''\n",
    "dic = {}\n",
    "count = 0\n",
    "for i in range(len(line_results)-1):\n",
    "    \n",
    "    line_name = lines[i].text\n",
    "    \n",
    "    line_results[i].click()\n",
    "\n",
    "    while True:\n",
    "        html = browser.page_source\n",
    "        soup = BeautifulSoup(html)\n",
    "        if str(soup.find('div', class_ = 'sub-popup-result').find('div', class_ = 'layout')) != stations_prev:\n",
    "            break\n",
    "            \n",
    "    print(line_name)\n",
    "    stations = soup.find('div', class_ = 'sub-popup-result').find('div', class_ = 'layout').find_all('a', class_ = 'clearfix')\n",
    "    \n",
    "    for station in stations:\n",
    "        dic[count] = {\"Line\": line_name}\n",
    "        dic[count]['n'] = station.find('div', class_ = 'sub-result-left').text\n",
    "        dic[count]['name'] = station.find('div', class_ = 'sub-result-name').text\n",
    "        dic[count]['disabled friendly'] = 1 if \"Divyang\" in str(station.find('div', class_ = 'sub-result-list')) else 0\n",
    "        dic[count]['parking available'] = 1 if \"Parking\" in str(station.find('div', class_ = 'sub-result-list')) else 0\n",
    "        dic[count]['elevator available'] = 1 if \"Lift\" in str(station.find('div', class_ = 'sub-result-list')) else 0\n",
    "        count+=1\n",
    "        \n",
    "    stations_prev = str(soup.find('div', class_ = 'sub-popup-result').find('div', class_ = 'layout'))"
   ]
  },
  {
   "cell_type": "code",
   "execution_count": 117,
   "metadata": {},
   "outputs": [
    {
     "data": {
      "text/html": [
       "<div>\n",
       "<style scoped>\n",
       "    .dataframe tbody tr th:only-of-type {\n",
       "        vertical-align: middle;\n",
       "    }\n",
       "\n",
       "    .dataframe tbody tr th {\n",
       "        vertical-align: top;\n",
       "    }\n",
       "\n",
       "    .dataframe thead th {\n",
       "        text-align: right;\n",
       "    }\n",
       "</style>\n",
       "<table border=\"1\" class=\"dataframe\">\n",
       "  <thead>\n",
       "    <tr style=\"text-align: right;\">\n",
       "      <th></th>\n",
       "      <th>Line</th>\n",
       "      <th>n</th>\n",
       "      <th>name</th>\n",
       "      <th>disabled friendly</th>\n",
       "      <th>parking available</th>\n",
       "      <th>elevator available</th>\n",
       "    </tr>\n",
       "  </thead>\n",
       "  <tbody>\n",
       "    <tr>\n",
       "      <th>0</th>\n",
       "      <td>Red Line 1</td>\n",
       "      <td>1</td>\n",
       "      <td>SHAHEED STHAL ( NEW BUS ADDA)</td>\n",
       "      <td>1</td>\n",
       "      <td>1</td>\n",
       "      <td>1</td>\n",
       "    </tr>\n",
       "    <tr>\n",
       "      <th>1</th>\n",
       "      <td>Red Line 1</td>\n",
       "      <td>2</td>\n",
       "      <td>HINDON RIVER</td>\n",
       "      <td>1</td>\n",
       "      <td>1</td>\n",
       "      <td>1</td>\n",
       "    </tr>\n",
       "    <tr>\n",
       "      <th>2</th>\n",
       "      <td>Red Line 1</td>\n",
       "      <td>3</td>\n",
       "      <td>ARTHALA</td>\n",
       "      <td>1</td>\n",
       "      <td>0</td>\n",
       "      <td>1</td>\n",
       "    </tr>\n",
       "    <tr>\n",
       "      <th>3</th>\n",
       "      <td>Red Line 1</td>\n",
       "      <td>4</td>\n",
       "      <td>MOHAN NAGAR</td>\n",
       "      <td>1</td>\n",
       "      <td>0</td>\n",
       "      <td>1</td>\n",
       "    </tr>\n",
       "    <tr>\n",
       "      <th>4</th>\n",
       "      <td>Red Line 1</td>\n",
       "      <td>5</td>\n",
       "      <td>SHYAM PARK</td>\n",
       "      <td>1</td>\n",
       "      <td>0</td>\n",
       "      <td>1</td>\n",
       "    </tr>\n",
       "    <tr>\n",
       "      <th>...</th>\n",
       "      <td>...</td>\n",
       "      <td>...</td>\n",
       "      <td>...</td>\n",
       "      <td>...</td>\n",
       "      <td>...</td>\n",
       "      <td>...</td>\n",
       "    </tr>\n",
       "    <tr>\n",
       "      <th>260</th>\n",
       "      <td>RMGL 11</td>\n",
       "      <td>7</td>\n",
       "      <td>PHASE 2</td>\n",
       "      <td>1</td>\n",
       "      <td>0</td>\n",
       "      <td>1</td>\n",
       "    </tr>\n",
       "    <tr>\n",
       "      <th>261</th>\n",
       "      <td>RMGL 11</td>\n",
       "      <td>8</td>\n",
       "      <td>BELVEDERE TOWERS</td>\n",
       "      <td>1</td>\n",
       "      <td>0</td>\n",
       "      <td>1</td>\n",
       "    </tr>\n",
       "    <tr>\n",
       "      <th>262</th>\n",
       "      <td>RMGL 11</td>\n",
       "      <td>9</td>\n",
       "      <td>CYBER CITY</td>\n",
       "      <td>1</td>\n",
       "      <td>0</td>\n",
       "      <td>1</td>\n",
       "    </tr>\n",
       "    <tr>\n",
       "      <th>263</th>\n",
       "      <td>RMGL 11</td>\n",
       "      <td>10</td>\n",
       "      <td>MOULSARI AVENUE</td>\n",
       "      <td>1</td>\n",
       "      <td>0</td>\n",
       "      <td>1</td>\n",
       "    </tr>\n",
       "    <tr>\n",
       "      <th>264</th>\n",
       "      <td>RMGL 11</td>\n",
       "      <td>11</td>\n",
       "      <td>PHASE 3</td>\n",
       "      <td>1</td>\n",
       "      <td>0</td>\n",
       "      <td>1</td>\n",
       "    </tr>\n",
       "  </tbody>\n",
       "</table>\n",
       "<p>265 rows × 6 columns</p>\n",
       "</div>"
      ],
      "text/plain": [
       "           Line   n                           name disabled friendly  \\\n",
       "0    Red Line 1   1  SHAHEED STHAL ( NEW BUS ADDA)                 1   \n",
       "1    Red Line 1   2                   HINDON RIVER                 1   \n",
       "2    Red Line 1   3                        ARTHALA                 1   \n",
       "3    Red Line 1   4                    MOHAN NAGAR                 1   \n",
       "4    Red Line 1   5                     SHYAM PARK                 1   \n",
       "..          ...  ..                            ...               ...   \n",
       "260     RMGL 11   7                        PHASE 2                 1   \n",
       "261     RMGL 11   8               BELVEDERE TOWERS                 1   \n",
       "262     RMGL 11   9                     CYBER CITY                 1   \n",
       "263     RMGL 11  10                MOULSARI AVENUE                 1   \n",
       "264     RMGL 11  11                        PHASE 3                 1   \n",
       "\n",
       "    parking available elevator available  \n",
       "0                   1                  1  \n",
       "1                   1                  1  \n",
       "2                   0                  1  \n",
       "3                   0                  1  \n",
       "4                   0                  1  \n",
       "..                ...                ...  \n",
       "260                 0                  1  \n",
       "261                 0                  1  \n",
       "262                 0                  1  \n",
       "263                 0                  1  \n",
       "264                 0                  1  \n",
       "\n",
       "[265 rows x 6 columns]"
      ]
     },
     "execution_count": 117,
     "metadata": {},
     "output_type": "execute_result"
    }
   ],
   "source": [
    "pd.DataFrame.from_dict(dic).T"
   ]
  },
  {
   "cell_type": "markdown",
   "metadata": {},
   "source": [
    "### Geocode Stations using Google Maps API"
   ]
  },
  {
   "cell_type": "code",
   "execution_count": 140,
   "metadata": {},
   "outputs": [],
   "source": [
    "g_API = 'api_key'\n",
    "gmaps_key = googlemaps.Client(key=g_API)\n",
    "\n",
    "for i in range(len(dic)):\n",
    "    search_term = \"Delhi Metro \" + dic[i]['Line'][:-2] + \" \" + dic[i]['name']\n",
    "    geocode_obj = gmaps_key.geocode(search_term)\n",
    "    dic[i]['map_info'] = geocode_obj"
   ]
  },
  {
   "cell_type": "code",
   "execution_count": 145,
   "metadata": {},
   "outputs": [
    {
     "name": "stdout",
     "output_type": "stream",
     "text": [
      "{'Line': 'Violet Line 6', 'n': '28', 'name': 'BADKAL MOR', 'disabled friendly': 1, 'parking available': 0, 'elevator available': 1, 'map_info': []}\n",
      "{'Line': 'Pink Line 7', 'n': '25', 'name': 'EAST VINOD NAGAR-MAYUR VIHAR -II', 'disabled friendly': 1, 'parking available': 0, 'elevator available': 1, 'map_info': []}\n",
      "{'Line': 'Magenta Line 8', 'n': '11', 'name': 'I.I.T', 'disabled friendly': 1, 'parking available': 0, 'elevator available': 1, 'map_info': []}\n",
      "{'Line': 'RMGL 11', 'n': '5', 'name': 'PHASE 1', 'disabled friendly': 1, 'parking available': 0, 'elevator available': 1, 'map_info': []}\n",
      "{'Line': 'RMGL 11', 'n': '11', 'name': 'PHASE 3', 'disabled friendly': 1, 'parking available': 0, 'elevator available': 1, 'map_info': []}\n"
     ]
    }
   ],
   "source": [
    "for i in range(len(dic)):\n",
    "    if len(dic[i]['map_info']) > 0:\n",
    "        lat = dic[i]['map_info'][0]['geometry']['location']['lat']\n",
    "        lon = dic[i]['map_info'][0]['geometry']['location']['lng']\n",
    "        dic[i]['lat'] = lat\n",
    "        dic[i]['long'] = lon\n",
    "        \n",
    "    else:\n",
    "        print(dic[i])"
   ]
  },
  {
   "cell_type": "code",
   "execution_count": 151,
   "metadata": {},
   "outputs": [],
   "source": [
    "df = pd.DataFrame.from_dict(dic).T"
   ]
  },
  {
   "cell_type": "code",
   "execution_count": 155,
   "metadata": {},
   "outputs": [],
   "source": [
    "df.drop(columns=['map_info']).to_excel(r\"C:\\Users\\nikhi\\Downloads\\Delhi_metro.xlsx\")  "
   ]
  },
  {
   "cell_type": "code",
   "execution_count": null,
   "metadata": {},
   "outputs": [],
   "source": []
  }
 ],
 "metadata": {
  "kernelspec": {
   "display_name": "Python 3",
   "language": "python",
   "name": "python3"
  },
  "language_info": {
   "codemirror_mode": {
    "name": "ipython",
    "version": 3
   },
   "file_extension": ".py",
   "mimetype": "text/x-python",
   "name": "python",
   "nbconvert_exporter": "python",
   "pygments_lexer": "ipython3",
   "version": "3.7.9"
  }
 },
 "nbformat": 4,
 "nbformat_minor": 4
}
